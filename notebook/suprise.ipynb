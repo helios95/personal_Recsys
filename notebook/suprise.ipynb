{
 "cells": [
  {
   "cell_type": "code",
   "execution_count": 1,
   "metadata": {},
   "outputs": [],
   "source": [
    "import numpy as np\n",
    "import pandas as pd\n",
    "\n",
    "# 필요한 Surprise 알고리즘 불러오기\n",
    "from surprise import BaselineOnly \n",
    "from surprise import KNNWithMeans\n",
    "from surprise import SVD\n",
    "from surprise import SVDpp\n",
    "from surprise import NMF\n",
    "from surprise import Dataset\n",
    "from surprise import accuracy\n",
    "from surprise import Reader\n",
    "from surprise.model_selection import cross_validate\n",
    "from surprise.model_selection import train_test_split"
   ]
  },
  {
   "cell_type": "code",
   "execution_count": 26,
   "metadata": {},
   "outputs": [
    {
     "name": "stderr",
     "output_type": "stream",
     "text": [
      "/usr/local/lib/python3.6/dist-packages/ipykernel_launcher.py:3: ParserWarning: Falling back to the 'python' engine because the 'c' engine does not support regex separators (separators > 1 char and different from '\\s+' are interpreted as regex); you can avoid this warning by specifying engine='python'.\n",
      "  This is separate from the ipykernel package so we can avoid doing imports until\n"
     ]
    }
   ],
   "source": [
    "# csv 파일에서 불러오기\n",
    "df = pd.read_csv(\"../../train_dataset/personalRecsys/preference.csv\")\n",
    "df_card  = pd.read_csv(\"../../train_dataset/personalRecsys/card_info.csv\", sep=r',(?!\\s)', warn_bad_lines=False, error_bad_lines=False)"
   ]
  },
  {
   "cell_type": "markdown",
   "metadata": {},
   "source": [
    "### 학습데이터에서 공지사항 필터링"
   ]
  },
  {
   "cell_type": "code",
   "execution_count": null,
   "metadata": {},
   "outputs": [],
   "source": []
  },
  {
   "cell_type": "code",
   "execution_count": 3,
   "metadata": {},
   "outputs": [
    {
     "name": "stdout",
     "output_type": "stream",
     "text": [
      "<class 'pandas.core.frame.DataFrame'>\n",
      "RangeIndex: 217623 entries, 0 to 217622\n",
      "Data columns (total 3 columns):\n",
      " #   Column     Non-Null Count   Dtype\n",
      "---  ------     --------------   -----\n",
      " 0   member_no  217623 non-null  int64\n",
      " 1   card_no    217623 non-null  int64\n",
      " 2   score      217623 non-null  int64\n",
      "dtypes: int64(3)\n",
      "memory usage: 5.0 MB\n"
     ]
    }
   ],
   "source": [
    "df2 = df[df['score'] == 1]\n",
    "df3 = df[df['score'] != 1]\n",
    "\n",
    "df2_1 = df2.drop(df2.index[0:400000])\n",
    "\n",
    "ratings = pd.concat([df2_1, df3])\n",
    "ratings.reset_index(drop=True, inplace=True)\n",
    "ratings.info()"
   ]
  },
  {
   "cell_type": "code",
   "execution_count": 4,
   "metadata": {},
   "outputs": [],
   "source": [
    "ratings.loc[ratings['score'] >= 5, 'score'] = 5"
   ]
  },
  {
   "cell_type": "code",
   "execution_count": 5,
   "metadata": {},
   "outputs": [
    {
     "data": {
      "text/html": [
       "<div>\n",
       "<style scoped>\n",
       "    .dataframe tbody tr th:only-of-type {\n",
       "        vertical-align: middle;\n",
       "    }\n",
       "\n",
       "    .dataframe tbody tr th {\n",
       "        vertical-align: top;\n",
       "    }\n",
       "\n",
       "    .dataframe thead th {\n",
       "        text-align: right;\n",
       "    }\n",
       "</style>\n",
       "<table border=\"1\" class=\"dataframe\">\n",
       "  <thead>\n",
       "    <tr style=\"text-align: right;\">\n",
       "      <th></th>\n",
       "      <th>member_no</th>\n",
       "      <th>card_no</th>\n",
       "      <th>score</th>\n",
       "    </tr>\n",
       "  </thead>\n",
       "  <tbody>\n",
       "    <tr>\n",
       "      <th>209863</th>\n",
       "      <td>137334159</td>\n",
       "      <td>6761872</td>\n",
       "      <td>5</td>\n",
       "    </tr>\n",
       "    <tr>\n",
       "      <th>165069</th>\n",
       "      <td>42131003</td>\n",
       "      <td>6764957</td>\n",
       "      <td>5</td>\n",
       "    </tr>\n",
       "    <tr>\n",
       "      <th>183389</th>\n",
       "      <td>93542003</td>\n",
       "      <td>6766315</td>\n",
       "      <td>5</td>\n",
       "    </tr>\n",
       "    <tr>\n",
       "      <th>154702</th>\n",
       "      <td>150471559</td>\n",
       "      <td>6875325</td>\n",
       "      <td>5</td>\n",
       "    </tr>\n",
       "    <tr>\n",
       "      <th>154703</th>\n",
       "      <td>150536026</td>\n",
       "      <td>6792874</td>\n",
       "      <td>5</td>\n",
       "    </tr>\n",
       "    <tr>\n",
       "      <th>...</th>\n",
       "      <td>...</td>\n",
       "      <td>...</td>\n",
       "      <td>...</td>\n",
       "    </tr>\n",
       "    <tr>\n",
       "      <th>72544</th>\n",
       "      <td>124909900</td>\n",
       "      <td>6839756</td>\n",
       "      <td>1</td>\n",
       "    </tr>\n",
       "    <tr>\n",
       "      <th>72545</th>\n",
       "      <td>125075189</td>\n",
       "      <td>6831585</td>\n",
       "      <td>1</td>\n",
       "    </tr>\n",
       "    <tr>\n",
       "      <th>72546</th>\n",
       "      <td>125402312</td>\n",
       "      <td>6698870</td>\n",
       "      <td>1</td>\n",
       "    </tr>\n",
       "    <tr>\n",
       "      <th>72547</th>\n",
       "      <td>125494430</td>\n",
       "      <td>6774147</td>\n",
       "      <td>1</td>\n",
       "    </tr>\n",
       "    <tr>\n",
       "      <th>108811</th>\n",
       "      <td>153451172</td>\n",
       "      <td>6325213</td>\n",
       "      <td>1</td>\n",
       "    </tr>\n",
       "  </tbody>\n",
       "</table>\n",
       "<p>217623 rows × 3 columns</p>\n",
       "</div>"
      ],
      "text/plain": [
       "        member_no  card_no  score\n",
       "209863  137334159  6761872      5\n",
       "165069   42131003  6764957      5\n",
       "183389   93542003  6766315      5\n",
       "154702  150471559  6875325      5\n",
       "154703  150536026  6792874      5\n",
       "...           ...      ...    ...\n",
       "72544   124909900  6839756      1\n",
       "72545   125075189  6831585      1\n",
       "72546   125402312  6698870      1\n",
       "72547   125494430  6774147      1\n",
       "108811  153451172  6325213      1\n",
       "\n",
       "[217623 rows x 3 columns]"
      ]
     },
     "execution_count": 5,
     "metadata": {},
     "output_type": "execute_result"
    }
   ],
   "source": [
    "ratings.sort_values(by=['score'], ascending=False).drop_duplicates()"
   ]
  },
  {
   "cell_type": "code",
   "execution_count": 6,
   "metadata": {},
   "outputs": [],
   "source": [
    "reader = Reader(rating_scale=(1,5))\n",
    "data = Dataset.load_from_df(ratings[['member_no', 'card_no', 'score']], reader)"
   ]
  },
  {
   "cell_type": "code",
   "execution_count": 7,
   "metadata": {},
   "outputs": [],
   "source": [
    "# Train/Test 분리 \n",
    "trainset, testset = train_test_split(data, test_size=0.25, random_state=42)"
   ]
  },
  {
   "cell_type": "code",
   "execution_count": 8,
   "metadata": {},
   "outputs": [
    {
     "name": "stdout",
     "output_type": "stream",
     "text": [
      "RMSE: 0.7923\n"
     ]
    },
    {
     "data": {
      "text/plain": [
       "0.7923230111072233"
      ]
     },
     "execution_count": 8,
     "metadata": {},
     "output_type": "execute_result"
    }
   ],
   "source": [
    "# 정확도 계산 \n",
    "#sim_options = {'name': 'pearson_baseline', 'user_based': True}\n",
    "#algo = KNNWithMeans(k=30, sim_options=sim_options)\n",
    "algo = SVD(n_factors=50, n_epochs=20, random_state=42)\n",
    "algo.fit(trainset)\n",
    "predictions = algo.test(testset)\n",
    "accuracy.rmse(predictions)"
   ]
  },
  {
   "cell_type": "code",
   "execution_count": 21,
   "metadata": {},
   "outputs": [],
   "source": [
    "def get_unseen_suprise(ratings, df_card, member_no):\n",
    "    # 특정 유저가 본 card 들을 리스트로 할당\n",
    "    df_seen_cards = ratings[ratings['member_no'] == member_no]['card_no']\n",
    "    seen_cards = df_seen_cards.tolist()\n",
    "    \n",
    "    # 모든 카드들의 card_no들 리스트로 할당\n",
    "    total_cards = df_card['card_no'].tolist()\n",
    "    \n",
    "    # 모든 카드들 중 특정 유저가 본 카드를 제외한 나머지 추출\n",
    "    unseen_cards = [card_no for card_no in total_cards if card_no not in seen_cards]\n",
    "    print(f'특정 {member_no}번 유저가 본 카드 수: {len(seen_cards)}')\n",
    "    print()\n",
    "    print(df_card[df_card['card_no'].isin(seen_cards)])\n",
    "\n",
    "    print()\n",
    "    print(f'추천한 카드 개수: {len(unseen_cards)}')\n",
    "    print(f'전체 카드수: {len(total_cards)}')\n",
    "    \n",
    "    return unseen_cards"
   ]
  },
  {
   "cell_type": "code",
   "execution_count": 22,
   "metadata": {},
   "outputs": [],
   "source": [
    "def recomm_card_by_suprise(algo, member_no, unseen_cards, top_n=10):\n",
    "    #알고리즘 객체의 predict()를 이용해 특정 userId의 평점이 없는 영화들에 대해 평점 예측\n",
    "    predictions = [algo.predict(str(member_no), str(card_no)) for card_no in unseen_cards]\n",
    "    \n",
    "    #predictions는 Prediction()으로 하나의 객체로 되어있기 때문에 예측평점(est값)을 기준으로 정렬해야함\n",
    "    #est값을 반환하는 함수부터 정의. 이것을 이용해 리스트로 정렬하는 sort()인자의 key값에 넣어주자\n",
    "    \n",
    "    def sortkey_est(pred):\n",
    "        return pred.est\n",
    "    \n",
    "    #sortkey_est함수로 리스트를 정렬하는 sort함수의 key인자에 넣어주자\n",
    "    #리스트 sort는 디폴트값이 inplace=True인 것처럼 정렬되어 나온다. reverse=True가 내림차순\n",
    "    predictions.sort(key=sortkey_est, reverse=True)\n",
    "    \n",
    "    # 공지사항 필터링 : 학습데이터에서 빼버릴까..\n",
    "    \n",
    "    \n",
    "    #상위 n개의 예측값들만 할당\n",
    "    top_predictions = predictions[:top_n]\n",
    "    \n",
    "    # top_predictions에서 card_no, score, card title 뽑아내기\n",
    "    top_card_no = [int(pred.iid) for pred in top_predictions]\n",
    "    top_card_score = [pred.est for pred in top_predictions]\n",
    "    top_card_titles = df_card[df_card.card_no.isin(top_card_no)]['title']\n",
    "    \n",
    "    # 위 3가지를 튜플로 담기\n",
    "    # zip함수를 사용해서 각 자료구조(여기선 리스트)의 똑같은 위치에 있는 값들을 mapping\n",
    "    # zip함수는 참고로 여러개의 문자열의 똑같은 위치들끼리 mapping도 가능\n",
    "    top_card_preds = [(card_no, score, title) for card_no, score, title in zip(top_card_no, top_card_score, top_card_titles)] \n",
    "    \n",
    "    return top_card_preds"
   ]
  },
  {
   "cell_type": "code",
   "execution_count": 23,
   "metadata": {},
   "outputs": [
    {
     "name": "stdout",
     "output_type": "stream",
     "text": [
      "특정 106150767번 유저가 본 카드 수: 12\n",
      "\n",
      "        card_no wrt_member_no                         title  community_no\n",
      "11871   6831965      80535993              랑디 세리스 둘중 뭘뽑아야됨?        1005.0\n",
      "26934   6854835      80026063    불디카 나세실 세리스가 같은 용도로 쓰는건가요?        1005.0\n",
      "40753   6762964      71168219          오토마톤 타워 클리어 & 공략 이벤트        1000.0\n",
      "48929   5561180     124988034      보랏 심키세 또미 주슈리조합으로 아레나돌릴때        1186.0\n",
      "71300   6841560      79545943                        부옵션 뭐고        1005.0\n",
      "73030   6868529     106036269                           인빛을        1005.0\n",
      "89675   5841025     124916036     입문자를 위한 아레나 공략본~ 뉴비~에린이까지        1189.0\n",
      "110115  6871482      71168219      카일론 & 알렉사의 바구니 소환 확률 UP!        1000.0\n",
      "119720  4823512      70192816                 인도하는빛 아티 질문드림        1005.0\n",
      "128491  6708852     124916036  뉴비~에린이탈출 까지 아레나 공덱(속덱) 요약본!!        1005.0\n",
      "283859  6841257     139311016   원정대에 칠수있는 사람수만 제한 풀면 될꺼 같은데        1005.0\n",
      "319483  6861868      87405218                       인빛? 시추?        1005.0\n",
      "\n",
      "추천한 카드 개수: 338082\n",
      "전체 카드수: 338094\n"
     ]
    }
   ],
   "source": [
    "### 위에서 정의한 함수를 사용해 특정 유저의 추천 영화들 출력\n",
    "unseen_lst = get_unseen_suprise(ratings, df_card, 106150767)\n",
    "top_card_preds = recomm_card_by_suprise(algo, 106150767, unseen_lst, 100)"
   ]
  },
  {
   "cell_type": "code",
   "execution_count": 28,
   "metadata": {},
   "outputs": [
    {
     "name": "stdout",
     "output_type": "stream",
     "text": [
      "\n",
      "######## Top-10 추천 카드 리스트 ########\n"
     ]
    },
    {
     "data": {
      "text/html": [
       "<div>\n",
       "<style scoped>\n",
       "    .dataframe tbody tr th:only-of-type {\n",
       "        vertical-align: middle;\n",
       "    }\n",
       "\n",
       "    .dataframe tbody tr th {\n",
       "        vertical-align: top;\n",
       "    }\n",
       "\n",
       "    .dataframe thead th {\n",
       "        text-align: right;\n",
       "    }\n",
       "</style>\n",
       "<table border=\"1\" class=\"dataframe\">\n",
       "  <thead>\n",
       "    <tr style=\"text-align: right;\">\n",
       "      <th></th>\n",
       "      <th>card_no</th>\n",
       "      <th>wrt_member_no</th>\n",
       "      <th>title</th>\n",
       "      <th>community_no</th>\n",
       "      <th>predict</th>\n",
       "    </tr>\n",
       "  </thead>\n",
       "  <tbody>\n",
       "    <tr>\n",
       "      <th>9</th>\n",
       "      <td>1660627</td>\n",
       "      <td>354222</td>\n",
       "      <td>ㅎㅇ</td>\n",
       "      <td>1005.0</td>\n",
       "      <td>1.474166</td>\n",
       "    </tr>\n",
       "    <tr>\n",
       "      <th>0</th>\n",
       "      <td>1455534</td>\n",
       "      <td>71168219</td>\n",
       "      <td>8/30(목) 모험 진행 불가 오류 조치 안내</td>\n",
       "      <td>995.0</td>\n",
       "      <td>1.474166</td>\n",
       "    </tr>\n",
       "    <tr>\n",
       "      <th>1</th>\n",
       "      <td>1480174</td>\n",
       "      <td>10638853</td>\n",
       "      <td>유저들 가챠로 부자된 알카서스2</td>\n",
       "      <td>1007.0</td>\n",
       "      <td>1.474166</td>\n",
       "    </tr>\n",
       "    <tr>\n",
       "      <th>2</th>\n",
       "      <td>1494649</td>\n",
       "      <td>70395475</td>\n",
       "      <td>ㅎㅇ</td>\n",
       "      <td>1006.0</td>\n",
       "      <td>1.474166</td>\n",
       "    </tr>\n",
       "    <tr>\n",
       "      <th>3</th>\n",
       "      <td>1499690</td>\n",
       "      <td>10215176</td>\n",
       "      <td>결제한거 안들어 오네요</td>\n",
       "      <td>1012.0</td>\n",
       "      <td>1.474166</td>\n",
       "    </tr>\n",
       "    <tr>\n",
       "      <th>4</th>\n",
       "      <td>1514597</td>\n",
       "      <td>79976493</td>\n",
       "      <td>과금에 대처하는 방법 카톡문의 mg074</td>\n",
       "      <td>1005.0</td>\n",
       "      <td>1.474166</td>\n",
       "    </tr>\n",
       "    <tr>\n",
       "      <th>5</th>\n",
       "      <td>1525479</td>\n",
       "      <td>79221914</td>\n",
       "      <td>클로에 버프 해주세요</td>\n",
       "      <td>1013.0</td>\n",
       "      <td>1.474166</td>\n",
       "    </tr>\n",
       "    <tr>\n",
       "      <th>6</th>\n",
       "      <td>1606009</td>\n",
       "      <td>80140469</td>\n",
       "      <td>추석이벤트 지급누락</td>\n",
       "      <td>1012.0</td>\n",
       "      <td>1.474166</td>\n",
       "    </tr>\n",
       "    <tr>\n",
       "      <th>7</th>\n",
       "      <td>1606727</td>\n",
       "      <td>80699566</td>\n",
       "      <td>버그(?)</td>\n",
       "      <td>1012.0</td>\n",
       "      <td>1.474166</td>\n",
       "    </tr>\n",
       "    <tr>\n",
       "      <th>8</th>\n",
       "      <td>1655583</td>\n",
       "      <td>81325891</td>\n",
       "      <td>이번유피네 좀 그런데</td>\n",
       "      <td>1005.0</td>\n",
       "      <td>1.474166</td>\n",
       "    </tr>\n",
       "  </tbody>\n",
       "</table>\n",
       "</div>"
      ],
      "text/plain": [
       "   card_no wrt_member_no                      title  community_no   predict\n",
       "9  1660627        354222                         ㅎㅇ        1005.0  1.474166\n",
       "0  1455534      71168219  8/30(목) 모험 진행 불가 오류 조치 안내         995.0  1.474166\n",
       "1  1480174      10638853          유저들 가챠로 부자된 알카서스2        1007.0  1.474166\n",
       "2  1494649      70395475                         ㅎㅇ        1006.0  1.474166\n",
       "3  1499690      10215176               결제한거 안들어 오네요        1012.0  1.474166\n",
       "4  1514597      79976493     과금에 대처하는 방법 카톡문의 mg074        1005.0  1.474166\n",
       "5  1525479      79221914                클로에 버프 해주세요        1013.0  1.474166\n",
       "6  1606009      80140469                 추석이벤트 지급누락        1012.0  1.474166\n",
       "7  1606727      80699566                      버그(?)        1012.0  1.474166\n",
       "8  1655583      81325891                이번유피네 좀 그런데        1005.0  1.474166"
      ]
     },
     "execution_count": 28,
     "metadata": {},
     "output_type": "execute_result"
    }
   ],
   "source": [
    "pd.set_option('display.max_rows', 10)\n",
    "print()\n",
    "print('#'*8, 'Top-10 추천 카드 리스트', '#'*8)\n",
    "\n",
    "# top_card_preds가 여러가지의 튜플을 담고 있는 리스트이기 때문에 반복문 수행\n",
    "for top_card in top_card_preds :\n",
    "    # df 생성\n",
    "    df_recommend = df_recommend.append(df_card[df_card['card_no'] == top_card[0]])\n",
    "    df_recommend['predict'] = top_card[1]\n",
    "    #print('* 추천 카드 title: ', top_card[2])\n",
    "    #print('* 해당 카드의 예측평점: ', top_card[1])\n",
    "    #print()\n",
    "\n",
    "df_recommend.head(10)"
   ]
  },
  {
   "cell_type": "code",
   "execution_count": null,
   "metadata": {},
   "outputs": [],
   "source": []
  }
 ],
 "metadata": {
  "kernelspec": {
   "display_name": "Python 3",
   "language": "python",
   "name": "python3"
  },
  "language_info": {
   "codemirror_mode": {
    "name": "ipython",
    "version": 3
   },
   "file_extension": ".py",
   "mimetype": "text/x-python",
   "name": "python",
   "nbconvert_exporter": "python",
   "pygments_lexer": "ipython3",
   "version": "3.6.9"
  }
 },
 "nbformat": 4,
 "nbformat_minor": 2
}
