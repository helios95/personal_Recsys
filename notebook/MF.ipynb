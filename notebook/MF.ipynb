<script src="https://gist.github.com/helios95/4115ae1096e9f0581f3c472e94647127.js"></script>
