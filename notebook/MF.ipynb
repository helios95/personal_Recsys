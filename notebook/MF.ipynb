{
 "cells": [
  {
   "cell_type": "code",
   "execution_count": 1,
   "metadata": {},
   "outputs": [
    {
     "data": {
      "text/plain": [
       "'1.1.5'"
      ]
     },
     "execution_count": 1,
     "metadata": {},
     "output_type": "execute_result"
    }
   ],
   "source": [
    "import pandas as pd\n",
    "import numpy as np\n",
    "pd.__version__"
   ]
  },
  {
   "cell_type": "code",
   "execution_count": 2,
   "metadata": {},
   "outputs": [
    {
     "name": "stderr",
     "output_type": "stream",
     "text": [
      "/usr/local/lib/python3.6/dist-packages/ipykernel_launcher.py:2: ParserWarning: Falling back to the 'python' engine because the 'c' engine does not support regex separators (separators > 1 char and different from '\\s+' are interpreted as regex); you can avoid this warning by specifying engine='python'.\n",
      "  \n"
     ]
    }
   ],
   "source": [
    "df = pd.read_csv(\"../../train_dataset/personalRecsys/preference.csv\")\n",
    "df_card  = pd.read_csv(\"../../train_dataset/personalRecsys/card_info_2.csv\", sep=r',(?!\\s)', warn_bad_lines=False, error_bad_lines=False)"
   ]
  },
  {
   "cell_type": "code",
   "execution_count": 3,
   "metadata": {},
   "outputs": [],
   "source": [
    "df2 = df[df['score'] == 1]\n",
    "df3 = df[df['score'] != 1]"
   ]
  },
  {
   "cell_type": "code",
   "execution_count": 4,
   "metadata": {},
   "outputs": [],
   "source": [
    "df2_1 = df2.drop(df2.index[0:400000])"
   ]
  },
  {
   "cell_type": "code",
   "execution_count": 5,
   "metadata": {},
   "outputs": [
    {
     "name": "stdout",
     "output_type": "stream",
     "text": [
      "<class 'pandas.core.frame.DataFrame'>\n",
      "RangeIndex: 217623 entries, 0 to 217622\n",
      "Data columns (total 3 columns):\n",
      " #   Column     Non-Null Count   Dtype\n",
      "---  ------     --------------   -----\n",
      " 0   member_no  217623 non-null  int64\n",
      " 1   card_no    217623 non-null  int64\n",
      " 2   score      217623 non-null  int64\n",
      "dtypes: int64(3)\n",
      "memory usage: 5.0 MB\n"
     ]
    }
   ],
   "source": [
    "df_rating = pd.concat([df2_1, df3])\n",
    "df_rating.reset_index(drop=True, inplace=True)\n",
    "df_rating.info()"
   ]
  },
  {
   "cell_type": "code",
   "execution_count": 6,
   "metadata": {},
   "outputs": [
    {
     "data": {
      "text/plain": [
       "(217623, 3)"
      ]
     },
     "execution_count": 6,
     "metadata": {},
     "output_type": "execute_result"
    }
   ],
   "source": [
    "df_rating.shape"
   ]
  },
  {
   "cell_type": "code",
   "execution_count": 7,
   "metadata": {},
   "outputs": [],
   "source": [
    "df_card = df_card.astype({'card_no':'int64'})"
   ]
  },
  {
   "cell_type": "code",
   "execution_count": 8,
   "metadata": {},
   "outputs": [
    {
     "name": "stdout",
     "output_type": "stream",
     "text": [
      "<class 'pandas.core.frame.DataFrame'>\n",
      "RangeIndex: 344143 entries, 0 to 344142\n",
      "Data columns (total 5 columns):\n",
      " #   Column         Non-Null Count   Dtype \n",
      "---  ------         --------------   ----- \n",
      " 0   card_no        344143 non-null  int64 \n",
      " 1   wrt_member_no  344143 non-null  int64 \n",
      " 2   community_no   344143 non-null  int64 \n",
      " 3   title          344019 non-null  object\n",
      " 4   community_nm   343445 non-null  object\n",
      "dtypes: int64(3), object(2)\n",
      "memory usage: 13.1+ MB\n"
     ]
    }
   ],
   "source": [
    "df_card.info()"
   ]
  },
  {
   "cell_type": "code",
   "execution_count": null,
   "metadata": {},
   "outputs": [],
   "source": [
    "df_rating.loc[df_rating['score'] >= 5, 'score'] = 5"
   ]
  },
  {
   "cell_type": "markdown",
   "metadata": {},
   "source": [
    "### 선호도 내림차순"
   ]
  },
  {
   "cell_type": "code",
   "execution_count": 9,
   "metadata": {},
   "outputs": [
    {
     "data": {
      "text/html": [
       "<div>\n",
       "<style scoped>\n",
       "    .dataframe tbody tr th:only-of-type {\n",
       "        vertical-align: middle;\n",
       "    }\n",
       "\n",
       "    .dataframe tbody tr th {\n",
       "        vertical-align: top;\n",
       "    }\n",
       "\n",
       "    .dataframe thead th {\n",
       "        text-align: right;\n",
       "    }\n",
       "</style>\n",
       "<table border=\"1\" class=\"dataframe\">\n",
       "  <thead>\n",
       "    <tr style=\"text-align: right;\">\n",
       "      <th></th>\n",
       "      <th>member_no</th>\n",
       "      <th>card_no</th>\n",
       "      <th>score</th>\n",
       "    </tr>\n",
       "  </thead>\n",
       "  <tbody>\n",
       "    <tr>\n",
       "      <th>193754</th>\n",
       "      <td>80161335</td>\n",
       "      <td>6772154</td>\n",
       "      <td>1256</td>\n",
       "    </tr>\n",
       "    <tr>\n",
       "      <th>175062</th>\n",
       "      <td>80207580</td>\n",
       "      <td>6772154</td>\n",
       "      <td>479</td>\n",
       "    </tr>\n",
       "    <tr>\n",
       "      <th>156951</th>\n",
       "      <td>121973166</td>\n",
       "      <td>4772116</td>\n",
       "      <td>264</td>\n",
       "    </tr>\n",
       "    <tr>\n",
       "      <th>156021</th>\n",
       "      <td>81562208</td>\n",
       "      <td>6804188</td>\n",
       "      <td>247</td>\n",
       "    </tr>\n",
       "    <tr>\n",
       "      <th>167824</th>\n",
       "      <td>152725588</td>\n",
       "      <td>4444727</td>\n",
       "      <td>187</td>\n",
       "    </tr>\n",
       "    <tr>\n",
       "      <th>...</th>\n",
       "      <td>...</td>\n",
       "      <td>...</td>\n",
       "      <td>...</td>\n",
       "    </tr>\n",
       "    <tr>\n",
       "      <th>72544</th>\n",
       "      <td>124909900</td>\n",
       "      <td>6839756</td>\n",
       "      <td>1</td>\n",
       "    </tr>\n",
       "    <tr>\n",
       "      <th>72545</th>\n",
       "      <td>125075189</td>\n",
       "      <td>6831585</td>\n",
       "      <td>1</td>\n",
       "    </tr>\n",
       "    <tr>\n",
       "      <th>72546</th>\n",
       "      <td>125402312</td>\n",
       "      <td>6698870</td>\n",
       "      <td>1</td>\n",
       "    </tr>\n",
       "    <tr>\n",
       "      <th>72547</th>\n",
       "      <td>125494430</td>\n",
       "      <td>6774147</td>\n",
       "      <td>1</td>\n",
       "    </tr>\n",
       "    <tr>\n",
       "      <th>108811</th>\n",
       "      <td>153451172</td>\n",
       "      <td>6325213</td>\n",
       "      <td>1</td>\n",
       "    </tr>\n",
       "  </tbody>\n",
       "</table>\n",
       "<p>217623 rows × 3 columns</p>\n",
       "</div>"
      ],
      "text/plain": [
       "        member_no  card_no  score\n",
       "193754   80161335  6772154   1256\n",
       "175062   80207580  6772154    479\n",
       "156951  121973166  4772116    264\n",
       "156021   81562208  6804188    247\n",
       "167824  152725588  4444727    187\n",
       "...           ...      ...    ...\n",
       "72544   124909900  6839756      1\n",
       "72545   125075189  6831585      1\n",
       "72546   125402312  6698870      1\n",
       "72547   125494430  6774147      1\n",
       "108811  153451172  6325213      1\n",
       "\n",
       "[217623 rows x 3 columns]"
      ]
     },
     "execution_count": 9,
     "metadata": {},
     "output_type": "execute_result"
    }
   ],
   "source": [
    "df_rating.sort_values(by=['score'], ascending=False).drop_duplicates()"
   ]
  },
  {
   "cell_type": "code",
   "execution_count": 10,
   "metadata": {},
   "outputs": [
    {
     "data": {
      "text/plain": [
       "1      147475\n",
       "2       50262\n",
       "3       11528\n",
       "4        3829\n",
       "5        1632\n",
       "        ...  \n",
       "53          1\n",
       "247         1\n",
       "48          1\n",
       "47          1\n",
       "120         1\n",
       "Name: score, Length: 66, dtype: int64"
      ]
     },
     "execution_count": 10,
     "metadata": {},
     "output_type": "execute_result"
    }
   ],
   "source": [
    "freq = df_rating['score'].value_counts()\n",
    "freq"
   ]
  },
  {
   "cell_type": "code",
   "execution_count": 11,
   "metadata": {},
   "outputs": [],
   "source": [
    "user_card_score = pd.pivot_table(df_rating, values='score', index='member_no', columns='card_no').fillna(0)"
   ]
  },
  {
   "cell_type": "code",
   "execution_count": 12,
   "metadata": {},
   "outputs": [
    {
     "data": {
      "text/plain": [
       "(56165, 21340)"
      ]
     },
     "execution_count": 12,
     "metadata": {},
     "output_type": "execute_result"
    }
   ],
   "source": [
    "user_card_score.shape"
   ]
  },
  {
   "cell_type": "code",
   "execution_count": 13,
   "metadata": {},
   "outputs": [],
   "source": [
    "# matrix는 pivot_table 값을 numpy matrix로 만든 것 \n",
    "matrix = user_card_score.values\n",
    "\n",
    "# user_ratings_mean은 사용자의 평균 평점 \n",
    "user_ratings_mean = np.mean(matrix, axis = 1)\n",
    "\n",
    "# R_user_mean : 사용자-영화에 대해 사용자 평균 평점을 뺀 것.\n",
    "matrix_user_mean = matrix - user_ratings_mean.reshape(-1, 1)"
   ]
  },
  {
   "cell_type": "code",
   "execution_count": 14,
   "metadata": {},
   "outputs": [
    {
     "data": {
      "text/plain": [
       "array([[0., 0., 0., ..., 0., 0., 0.],\n",
       "       [0., 0., 0., ..., 0., 0., 0.],\n",
       "       [0., 0., 0., ..., 0., 0., 0.],\n",
       "       ...,\n",
       "       [0., 0., 0., ..., 0., 0., 0.],\n",
       "       [0., 0., 0., ..., 0., 0., 0.],\n",
       "       [0., 0., 0., ..., 0., 0., 0.]])"
      ]
     },
     "execution_count": 14,
     "metadata": {},
     "output_type": "execute_result"
    }
   ],
   "source": [
    "matrix"
   ]
  },
  {
   "cell_type": "code",
   "execution_count": 15,
   "metadata": {},
   "outputs": [
    {
     "data": {
      "text/plain": [
       "(56165, 21340)"
      ]
     },
     "execution_count": 15,
     "metadata": {},
     "output_type": "execute_result"
    }
   ],
   "source": [
    "matrix.shape"
   ]
  },
  {
   "cell_type": "code",
   "execution_count": 16,
   "metadata": {},
   "outputs": [
    {
     "data": {
      "text/plain": [
       "(56165,)"
      ]
     },
     "execution_count": 16,
     "metadata": {},
     "output_type": "execute_result"
    }
   ],
   "source": [
    "user_ratings_mean.shape"
   ]
  },
  {
   "cell_type": "code",
   "execution_count": 17,
   "metadata": {},
   "outputs": [
    {
     "data": {
      "text/plain": [
       "(56165, 21340)"
      ]
     },
     "execution_count": 17,
     "metadata": {},
     "output_type": "execute_result"
    }
   ],
   "source": [
    "matrix_user_mean.shape"
   ]
  },
  {
   "cell_type": "code",
   "execution_count": 18,
   "metadata": {},
   "outputs": [
    {
     "data": {
      "text/html": [
       "<div>\n",
       "<style scoped>\n",
       "    .dataframe tbody tr th:only-of-type {\n",
       "        vertical-align: middle;\n",
       "    }\n",
       "\n",
       "    .dataframe tbody tr th {\n",
       "        vertical-align: top;\n",
       "    }\n",
       "\n",
       "    .dataframe thead th {\n",
       "        text-align: right;\n",
       "    }\n",
       "</style>\n",
       "<table border=\"1\" class=\"dataframe\">\n",
       "  <thead>\n",
       "    <tr style=\"text-align: right;\">\n",
       "      <th>card_no</th>\n",
       "      <th>1441694</th>\n",
       "      <th>1449247</th>\n",
       "      <th>1449250</th>\n",
       "      <th>1449254</th>\n",
       "      <th>1449307</th>\n",
       "      <th>1449315</th>\n",
       "      <th>1449324</th>\n",
       "      <th>1449325</th>\n",
       "      <th>1449327</th>\n",
       "      <th>1449349</th>\n",
       "      <th>...</th>\n",
       "      <th>6891500</th>\n",
       "      <th>6891567</th>\n",
       "      <th>6891599</th>\n",
       "      <th>6891608</th>\n",
       "      <th>6891661</th>\n",
       "      <th>6891826</th>\n",
       "      <th>6891943</th>\n",
       "      <th>6891985</th>\n",
       "      <th>6891997</th>\n",
       "      <th>6892029</th>\n",
       "    </tr>\n",
       "  </thead>\n",
       "  <tbody>\n",
       "    <tr>\n",
       "      <th>0</th>\n",
       "      <td>-0.000234</td>\n",
       "      <td>-0.000234</td>\n",
       "      <td>-0.000234</td>\n",
       "      <td>-0.000234</td>\n",
       "      <td>-0.000234</td>\n",
       "      <td>-0.000234</td>\n",
       "      <td>-0.000234</td>\n",
       "      <td>-0.000234</td>\n",
       "      <td>-0.000234</td>\n",
       "      <td>-0.000234</td>\n",
       "      <td>...</td>\n",
       "      <td>-0.000234</td>\n",
       "      <td>-0.000234</td>\n",
       "      <td>-0.000234</td>\n",
       "      <td>-0.000234</td>\n",
       "      <td>-0.000234</td>\n",
       "      <td>-0.000234</td>\n",
       "      <td>-0.000234</td>\n",
       "      <td>-0.000234</td>\n",
       "      <td>-0.000234</td>\n",
       "      <td>-0.000234</td>\n",
       "    </tr>\n",
       "    <tr>\n",
       "      <th>1</th>\n",
       "      <td>-0.000094</td>\n",
       "      <td>-0.000094</td>\n",
       "      <td>-0.000094</td>\n",
       "      <td>-0.000094</td>\n",
       "      <td>-0.000094</td>\n",
       "      <td>-0.000094</td>\n",
       "      <td>-0.000094</td>\n",
       "      <td>-0.000094</td>\n",
       "      <td>-0.000094</td>\n",
       "      <td>-0.000094</td>\n",
       "      <td>...</td>\n",
       "      <td>-0.000094</td>\n",
       "      <td>-0.000094</td>\n",
       "      <td>-0.000094</td>\n",
       "      <td>-0.000094</td>\n",
       "      <td>-0.000094</td>\n",
       "      <td>-0.000094</td>\n",
       "      <td>-0.000094</td>\n",
       "      <td>-0.000094</td>\n",
       "      <td>-0.000094</td>\n",
       "      <td>-0.000094</td>\n",
       "    </tr>\n",
       "    <tr>\n",
       "      <th>2</th>\n",
       "      <td>-0.000047</td>\n",
       "      <td>-0.000047</td>\n",
       "      <td>-0.000047</td>\n",
       "      <td>-0.000047</td>\n",
       "      <td>-0.000047</td>\n",
       "      <td>-0.000047</td>\n",
       "      <td>-0.000047</td>\n",
       "      <td>-0.000047</td>\n",
       "      <td>-0.000047</td>\n",
       "      <td>-0.000047</td>\n",
       "      <td>...</td>\n",
       "      <td>-0.000047</td>\n",
       "      <td>-0.000047</td>\n",
       "      <td>-0.000047</td>\n",
       "      <td>-0.000047</td>\n",
       "      <td>-0.000047</td>\n",
       "      <td>-0.000047</td>\n",
       "      <td>-0.000047</td>\n",
       "      <td>-0.000047</td>\n",
       "      <td>-0.000047</td>\n",
       "      <td>-0.000047</td>\n",
       "    </tr>\n",
       "    <tr>\n",
       "      <th>3</th>\n",
       "      <td>-0.000234</td>\n",
       "      <td>-0.000234</td>\n",
       "      <td>-0.000234</td>\n",
       "      <td>-0.000234</td>\n",
       "      <td>-0.000234</td>\n",
       "      <td>-0.000234</td>\n",
       "      <td>-0.000234</td>\n",
       "      <td>-0.000234</td>\n",
       "      <td>-0.000234</td>\n",
       "      <td>-0.000234</td>\n",
       "      <td>...</td>\n",
       "      <td>-0.000234</td>\n",
       "      <td>-0.000234</td>\n",
       "      <td>-0.000234</td>\n",
       "      <td>-0.000234</td>\n",
       "      <td>-0.000234</td>\n",
       "      <td>-0.000234</td>\n",
       "      <td>-0.000234</td>\n",
       "      <td>-0.000234</td>\n",
       "      <td>-0.000234</td>\n",
       "      <td>-0.000234</td>\n",
       "    </tr>\n",
       "    <tr>\n",
       "      <th>4</th>\n",
       "      <td>-0.000797</td>\n",
       "      <td>-0.000797</td>\n",
       "      <td>-0.000797</td>\n",
       "      <td>-0.000797</td>\n",
       "      <td>-0.000797</td>\n",
       "      <td>-0.000797</td>\n",
       "      <td>-0.000797</td>\n",
       "      <td>-0.000797</td>\n",
       "      <td>-0.000797</td>\n",
       "      <td>-0.000797</td>\n",
       "      <td>...</td>\n",
       "      <td>-0.000797</td>\n",
       "      <td>-0.000797</td>\n",
       "      <td>-0.000797</td>\n",
       "      <td>-0.000797</td>\n",
       "      <td>-0.000797</td>\n",
       "      <td>-0.000797</td>\n",
       "      <td>-0.000797</td>\n",
       "      <td>-0.000797</td>\n",
       "      <td>-0.000797</td>\n",
       "      <td>-0.000797</td>\n",
       "    </tr>\n",
       "  </tbody>\n",
       "</table>\n",
       "<p>5 rows × 21340 columns</p>\n",
       "</div>"
      ],
      "text/plain": [
       "card_no   1441694   1449247   1449250   1449254   1449307   1449315   1449324  \\\n",
       "0       -0.000234 -0.000234 -0.000234 -0.000234 -0.000234 -0.000234 -0.000234   \n",
       "1       -0.000094 -0.000094 -0.000094 -0.000094 -0.000094 -0.000094 -0.000094   \n",
       "2       -0.000047 -0.000047 -0.000047 -0.000047 -0.000047 -0.000047 -0.000047   \n",
       "3       -0.000234 -0.000234 -0.000234 -0.000234 -0.000234 -0.000234 -0.000234   \n",
       "4       -0.000797 -0.000797 -0.000797 -0.000797 -0.000797 -0.000797 -0.000797   \n",
       "\n",
       "card_no   1449325   1449327   1449349  ...   6891500   6891567   6891599  \\\n",
       "0       -0.000234 -0.000234 -0.000234  ... -0.000234 -0.000234 -0.000234   \n",
       "1       -0.000094 -0.000094 -0.000094  ... -0.000094 -0.000094 -0.000094   \n",
       "2       -0.000047 -0.000047 -0.000047  ... -0.000047 -0.000047 -0.000047   \n",
       "3       -0.000234 -0.000234 -0.000234  ... -0.000234 -0.000234 -0.000234   \n",
       "4       -0.000797 -0.000797 -0.000797  ... -0.000797 -0.000797 -0.000797   \n",
       "\n",
       "card_no   6891608   6891661   6891826   6891943   6891985   6891997   6892029  \n",
       "0       -0.000234 -0.000234 -0.000234 -0.000234 -0.000234 -0.000234 -0.000234  \n",
       "1       -0.000094 -0.000094 -0.000094 -0.000094 -0.000094 -0.000094 -0.000094  \n",
       "2       -0.000047 -0.000047 -0.000047 -0.000047 -0.000047 -0.000047 -0.000047  \n",
       "3       -0.000234 -0.000234 -0.000234 -0.000234 -0.000234 -0.000234 -0.000234  \n",
       "4       -0.000797 -0.000797 -0.000797 -0.000797 -0.000797 -0.000797 -0.000797  \n",
       "\n",
       "[5 rows x 21340 columns]"
      ]
     },
     "execution_count": 18,
     "metadata": {},
     "output_type": "execute_result"
    }
   ],
   "source": [
    "pd.DataFrame(matrix_user_mean, columns = user_card_score.columns).head()"
   ]
  },
  {
   "cell_type": "code",
   "execution_count": 19,
   "metadata": {},
   "outputs": [],
   "source": [
    "from sklearn.decomposition import TruncatedSVD\n",
    "from scipy.sparse.linalg import svds\n",
    "\n",
    "import matplotlib.pyplot as plt\n",
    "import seaborn as sns\n",
    "# scipy에서 제공해주는 svd.  \n",
    "# U 행렬, sigma 행렬, V 전치 행렬을 반환.\n",
    "\n",
    "U, sigma, Vt = svds(matrix_user_mean, k = 12)"
   ]
  },
  {
   "cell_type": "code",
   "execution_count": 20,
   "metadata": {},
   "outputs": [
    {
     "name": "stdout",
     "output_type": "stream",
     "text": [
      "(56165, 12)\n",
      "(12,)\n",
      "(12, 21340)\n"
     ]
    }
   ],
   "source": [
    "print(U.shape)\n",
    "print(sigma.shape)\n",
    "print(Vt.shape)"
   ]
  },
  {
   "cell_type": "code",
   "execution_count": 21,
   "metadata": {},
   "outputs": [],
   "source": [
    "sigma = np.diag(sigma)"
   ]
  },
  {
   "cell_type": "code",
   "execution_count": 22,
   "metadata": {},
   "outputs": [
    {
     "data": {
      "text/plain": [
       "(12, 12)"
      ]
     },
     "execution_count": 22,
     "metadata": {},
     "output_type": "execute_result"
    }
   ],
   "source": [
    "sigma.shape"
   ]
  },
  {
   "cell_type": "code",
   "execution_count": 23,
   "metadata": {},
   "outputs": [
    {
     "data": {
      "text/plain": [
       "array([104.09173572,   0.        ,   0.        ,   0.        ,\n",
       "         0.        ,   0.        ,   0.        ,   0.        ,\n",
       "         0.        ,   0.        ,   0.        ,   0.        ])"
      ]
     },
     "execution_count": 23,
     "metadata": {},
     "output_type": "execute_result"
    }
   ],
   "source": [
    "sigma[0]"
   ]
  },
  {
   "cell_type": "code",
   "execution_count": 24,
   "metadata": {},
   "outputs": [
    {
     "data": {
      "text/plain": [
       "array([  0.        , 109.28253709,   0.        ,   0.        ,\n",
       "         0.        ,   0.        ,   0.        ,   0.        ,\n",
       "         0.        ,   0.        ,   0.        ,   0.        ])"
      ]
     },
     "execution_count": 24,
     "metadata": {},
     "output_type": "execute_result"
    }
   ],
   "source": [
    "sigma[1]"
   ]
  },
  {
   "cell_type": "code",
   "execution_count": 25,
   "metadata": {},
   "outputs": [],
   "source": [
    "# U, Sigma, Vt의 내적을 수행하면, 다시 원본 행렬로 복원이 된다. \n",
    "# 거기에 + 사용자 평균 rating을 적용한다. \n",
    "svd_user_predicted_ratings = np.dot(np.dot(U, sigma), Vt) + user_ratings_mean.reshape(-1, 1)"
   ]
  },
  {
   "cell_type": "code",
   "execution_count": 26,
   "metadata": {},
   "outputs": [
    {
     "data": {
      "text/html": [
       "<div>\n",
       "<style scoped>\n",
       "    .dataframe tbody tr th:only-of-type {\n",
       "        vertical-align: middle;\n",
       "    }\n",
       "\n",
       "    .dataframe tbody tr th {\n",
       "        vertical-align: top;\n",
       "    }\n",
       "\n",
       "    .dataframe thead th {\n",
       "        text-align: right;\n",
       "    }\n",
       "</style>\n",
       "<table border=\"1\" class=\"dataframe\">\n",
       "  <thead>\n",
       "    <tr style=\"text-align: right;\">\n",
       "      <th>card_no</th>\n",
       "      <th>1441694</th>\n",
       "      <th>1449247</th>\n",
       "      <th>1449250</th>\n",
       "      <th>1449254</th>\n",
       "      <th>1449307</th>\n",
       "      <th>1449315</th>\n",
       "      <th>1449324</th>\n",
       "      <th>1449325</th>\n",
       "      <th>1449327</th>\n",
       "      <th>1449349</th>\n",
       "      <th>...</th>\n",
       "      <th>6891500</th>\n",
       "      <th>6891567</th>\n",
       "      <th>6891599</th>\n",
       "      <th>6891608</th>\n",
       "      <th>6891661</th>\n",
       "      <th>6891826</th>\n",
       "      <th>6891943</th>\n",
       "      <th>6891985</th>\n",
       "      <th>6891997</th>\n",
       "      <th>6892029</th>\n",
       "    </tr>\n",
       "  </thead>\n",
       "  <tbody>\n",
       "    <tr>\n",
       "      <th>0</th>\n",
       "      <td>0.000089</td>\n",
       "      <td>0.000089</td>\n",
       "      <td>0.000089</td>\n",
       "      <td>0.000089</td>\n",
       "      <td>0.000094</td>\n",
       "      <td>0.000089</td>\n",
       "      <td>0.000089</td>\n",
       "      <td>0.000089</td>\n",
       "      <td>0.000089</td>\n",
       "      <td>0.000089</td>\n",
       "      <td>...</td>\n",
       "      <td>0.000316</td>\n",
       "      <td>0.000177</td>\n",
       "      <td>0.000136</td>\n",
       "      <td>0.000089</td>\n",
       "      <td>0.000171</td>\n",
       "      <td>0.000091</td>\n",
       "      <td>0.000103</td>\n",
       "      <td>0.000092</td>\n",
       "      <td>0.000259</td>\n",
       "      <td>0.000100</td>\n",
       "    </tr>\n",
       "    <tr>\n",
       "      <th>1</th>\n",
       "      <td>0.000096</td>\n",
       "      <td>0.000096</td>\n",
       "      <td>0.000096</td>\n",
       "      <td>0.000096</td>\n",
       "      <td>0.000096</td>\n",
       "      <td>0.000096</td>\n",
       "      <td>0.000096</td>\n",
       "      <td>0.000096</td>\n",
       "      <td>0.000096</td>\n",
       "      <td>0.000096</td>\n",
       "      <td>...</td>\n",
       "      <td>0.000092</td>\n",
       "      <td>0.000095</td>\n",
       "      <td>0.000096</td>\n",
       "      <td>0.000096</td>\n",
       "      <td>0.000095</td>\n",
       "      <td>0.000096</td>\n",
       "      <td>0.000096</td>\n",
       "      <td>0.000096</td>\n",
       "      <td>0.000094</td>\n",
       "      <td>0.000096</td>\n",
       "    </tr>\n",
       "    <tr>\n",
       "      <th>2</th>\n",
       "      <td>-0.000068</td>\n",
       "      <td>-0.000085</td>\n",
       "      <td>-0.000085</td>\n",
       "      <td>-0.000085</td>\n",
       "      <td>-0.000085</td>\n",
       "      <td>-0.000085</td>\n",
       "      <td>-0.000021</td>\n",
       "      <td>-0.000085</td>\n",
       "      <td>-0.000085</td>\n",
       "      <td>-0.000085</td>\n",
       "      <td>...</td>\n",
       "      <td>0.000440</td>\n",
       "      <td>-0.000031</td>\n",
       "      <td>-0.000070</td>\n",
       "      <td>-0.000077</td>\n",
       "      <td>0.000013</td>\n",
       "      <td>-0.000016</td>\n",
       "      <td>-0.000083</td>\n",
       "      <td>-0.000084</td>\n",
       "      <td>-0.000097</td>\n",
       "      <td>-0.000088</td>\n",
       "    </tr>\n",
       "    <tr>\n",
       "      <th>3</th>\n",
       "      <td>0.000225</td>\n",
       "      <td>0.000225</td>\n",
       "      <td>0.000225</td>\n",
       "      <td>0.000225</td>\n",
       "      <td>0.000225</td>\n",
       "      <td>0.000225</td>\n",
       "      <td>0.000225</td>\n",
       "      <td>0.000225</td>\n",
       "      <td>0.000225</td>\n",
       "      <td>0.000225</td>\n",
       "      <td>...</td>\n",
       "      <td>0.000231</td>\n",
       "      <td>0.000234</td>\n",
       "      <td>0.000228</td>\n",
       "      <td>0.000225</td>\n",
       "      <td>0.000233</td>\n",
       "      <td>0.000225</td>\n",
       "      <td>0.000226</td>\n",
       "      <td>0.000225</td>\n",
       "      <td>0.000242</td>\n",
       "      <td>0.000226</td>\n",
       "    </tr>\n",
       "    <tr>\n",
       "      <th>4</th>\n",
       "      <td>0.000750</td>\n",
       "      <td>0.000750</td>\n",
       "      <td>0.000750</td>\n",
       "      <td>0.000750</td>\n",
       "      <td>0.000751</td>\n",
       "      <td>0.000750</td>\n",
       "      <td>0.000749</td>\n",
       "      <td>0.000750</td>\n",
       "      <td>0.000750</td>\n",
       "      <td>0.000750</td>\n",
       "      <td>...</td>\n",
       "      <td>0.000795</td>\n",
       "      <td>0.000788</td>\n",
       "      <td>0.000766</td>\n",
       "      <td>0.000750</td>\n",
       "      <td>0.000785</td>\n",
       "      <td>0.000750</td>\n",
       "      <td>0.000756</td>\n",
       "      <td>0.000751</td>\n",
       "      <td>0.000828</td>\n",
       "      <td>0.000754</td>\n",
       "    </tr>\n",
       "  </tbody>\n",
       "</table>\n",
       "<p>5 rows × 21340 columns</p>\n",
       "</div>"
      ],
      "text/plain": [
       "card_no   1441694   1449247   1449250   1449254   1449307   1449315   1449324  \\\n",
       "0        0.000089  0.000089  0.000089  0.000089  0.000094  0.000089  0.000089   \n",
       "1        0.000096  0.000096  0.000096  0.000096  0.000096  0.000096  0.000096   \n",
       "2       -0.000068 -0.000085 -0.000085 -0.000085 -0.000085 -0.000085 -0.000021   \n",
       "3        0.000225  0.000225  0.000225  0.000225  0.000225  0.000225  0.000225   \n",
       "4        0.000750  0.000750  0.000750  0.000750  0.000751  0.000750  0.000749   \n",
       "\n",
       "card_no   1449325   1449327   1449349  ...   6891500   6891567   6891599  \\\n",
       "0        0.000089  0.000089  0.000089  ...  0.000316  0.000177  0.000136   \n",
       "1        0.000096  0.000096  0.000096  ...  0.000092  0.000095  0.000096   \n",
       "2       -0.000085 -0.000085 -0.000085  ...  0.000440 -0.000031 -0.000070   \n",
       "3        0.000225  0.000225  0.000225  ...  0.000231  0.000234  0.000228   \n",
       "4        0.000750  0.000750  0.000750  ...  0.000795  0.000788  0.000766   \n",
       "\n",
       "card_no   6891608   6891661   6891826   6891943   6891985   6891997   6892029  \n",
       "0        0.000089  0.000171  0.000091  0.000103  0.000092  0.000259  0.000100  \n",
       "1        0.000096  0.000095  0.000096  0.000096  0.000096  0.000094  0.000096  \n",
       "2       -0.000077  0.000013 -0.000016 -0.000083 -0.000084 -0.000097 -0.000088  \n",
       "3        0.000225  0.000233  0.000225  0.000226  0.000225  0.000242  0.000226  \n",
       "4        0.000750  0.000785  0.000750  0.000756  0.000751  0.000828  0.000754  \n",
       "\n",
       "[5 rows x 21340 columns]"
      ]
     },
     "execution_count": 26,
     "metadata": {},
     "output_type": "execute_result"
    }
   ],
   "source": [
    "df_svd_preds = pd.DataFrame(svd_user_predicted_ratings, columns = user_card_score.columns)\n",
    "df_svd_preds.head()"
   ]
  },
  {
   "cell_type": "code",
   "execution_count": 27,
   "metadata": {},
   "outputs": [
    {
     "data": {
      "text/plain": [
       "(56165, 21340)"
      ]
     },
     "execution_count": 27,
     "metadata": {},
     "output_type": "execute_result"
    }
   ],
   "source": [
    "df_svd_preds.shape"
   ]
  },
  {
   "cell_type": "code",
   "execution_count": 28,
   "metadata": {},
   "outputs": [
    {
     "name": "stdout",
     "output_type": "stream",
     "text": [
      "56165\n",
